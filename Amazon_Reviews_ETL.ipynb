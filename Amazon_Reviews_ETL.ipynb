{
  "nbformat": 4,
  "nbformat_minor": 0,
  "metadata": {
    "colab": {
      "name": "Amazon_Reviews_ETL.ipynb",
      "provenance": [],
      "collapsed_sections": []
    },
    "kernelspec": {
      "name": "python3",
      "display_name": "Python 3"
    },
    "nteract": {
      "version": "0.12.3"
    },
    "language_info": {
      "name": "python"
    }
  },
  "cells": [
    {
      "cell_type": "code",
      "metadata": {
        "id": "V58rxea0HqSa",
        "colab": {
          "base_uri": "https://localhost:8080/"
        },
        "outputId": "4117503a-d729-4ce5-808d-194bcff44de0"
      },
      "source": [
        "import os\n",
        "# Find the latest version of spark 3.0 from http://www.apache.org/dist/spark/ and enter as the spark version\n",
        "# For example:\n",
        "# spark_version = 'spark-3.0.3'\n",
        "spark_version = 'spark-3.0.3'\n",
        "os.environ['SPARK_VERSION']=spark_version\n",
        "\n",
        "# Install Spark and Java\n",
        "!apt-get update\n",
        "!apt-get install openjdk-11-jdk-headless -qq > /dev/null\n",
        "!wget -q http://www.apache.org/dist/spark/$SPARK_VERSION/$SPARK_VERSION-bin-hadoop2.7.tgz\n",
        "!tar xf $SPARK_VERSION-bin-hadoop2.7.tgz\n",
        "!pip install -q findspark\n",
        "\n",
        "# Set Environment Variables\n",
        "import os\n",
        "os.environ[\"JAVA_HOME\"] = \"/usr/lib/jvm/java-11-openjdk-amd64\"\n",
        "os.environ[\"SPARK_HOME\"] = f\"/content/{spark_version}-bin-hadoop2.7\"\n",
        "\n",
        "# Start a SparkSession\n",
        "import findspark\n",
        "findspark.init()"
      ],
      "execution_count": 1,
      "outputs": [
        {
          "output_type": "stream",
          "name": "stdout",
          "text": [
            "\r0% [Working]\r            \rGet:1 https://cloud.r-project.org/bin/linux/ubuntu bionic-cran40/ InRelease [3,626 B]\n",
            "Hit:2 https://developer.download.nvidia.com/compute/cuda/repos/ubuntu1804/x86_64  InRelease\n",
            "Hit:3 http://archive.ubuntu.com/ubuntu bionic InRelease\n",
            "Get:4 http://security.ubuntu.com/ubuntu bionic-security InRelease [88.7 kB]\n",
            "Hit:5 http://ppa.launchpad.net/c2d4u.team/c2d4u4.0+/ubuntu bionic InRelease\n",
            "Ign:6 https://developer.download.nvidia.com/compute/machine-learning/repos/ubuntu1804/x86_64  InRelease\n",
            "Hit:7 https://developer.download.nvidia.com/compute/machine-learning/repos/ubuntu1804/x86_64  Release\n",
            "Get:8 http://archive.ubuntu.com/ubuntu bionic-updates InRelease [88.7 kB]\n",
            "Get:9 https://cloud.r-project.org/bin/linux/ubuntu bionic-cran40/ Packages [85.6 kB]\n",
            "Hit:10 http://ppa.launchpad.net/cran/libgit2/ubuntu bionic InRelease\n",
            "Get:11 http://archive.ubuntu.com/ubuntu bionic-backports InRelease [74.6 kB]\n",
            "Hit:12 http://ppa.launchpad.net/deadsnakes/ppa/ubuntu bionic InRelease\n",
            "Hit:14 http://ppa.launchpad.net/graphics-drivers/ppa/ubuntu bionic InRelease\n",
            "Get:15 http://archive.ubuntu.com/ubuntu bionic-updates/restricted amd64 Packages [1,105 kB]\n",
            "Get:16 http://security.ubuntu.com/ubuntu bionic-security/universe amd64 Packages [1,526 kB]\n",
            "Get:17 http://security.ubuntu.com/ubuntu bionic-security/main amd64 Packages [2,898 kB]\n",
            "Get:18 http://security.ubuntu.com/ubuntu bionic-security/restricted amd64 Packages [1,060 kB]\n",
            "Get:19 http://archive.ubuntu.com/ubuntu bionic-updates/universe amd64 Packages [2,302 kB]\n",
            "Get:20 http://archive.ubuntu.com/ubuntu bionic-updates/main amd64 Packages [3,332 kB]\n",
            "Fetched 12.6 MB in 9s (1,405 kB/s)\n",
            "Reading package lists... Done\n"
          ]
        }
      ]
    },
    {
      "cell_type": "code",
      "metadata": {
        "id": "_xKwTpATHqSe",
        "colab": {
          "base_uri": "https://localhost:8080/"
        },
        "outputId": "615355bc-35a4-4744-8478-e7ac30e8ab3f"
      },
      "source": [
        "# Download the Postgres driver that will allow Spark to interact with Postgres.\n",
        "!wget https://jdbc.postgresql.org/download/postgresql-42.2.16.jar"
      ],
      "execution_count": 2,
      "outputs": [
        {
          "output_type": "stream",
          "name": "stdout",
          "text": [
            "--2022-07-19 01:34:49--  https://jdbc.postgresql.org/download/postgresql-42.2.16.jar\n",
            "Resolving jdbc.postgresql.org (jdbc.postgresql.org)... 72.32.157.228, 2001:4800:3e1:1::228\n",
            "Connecting to jdbc.postgresql.org (jdbc.postgresql.org)|72.32.157.228|:443... connected.\n",
            "HTTP request sent, awaiting response... 200 OK\n",
            "Length: 1002883 (979K) [application/java-archive]\n",
            "Saving to: ‘postgresql-42.2.16.jar’\n",
            "\n",
            "postgresql-42.2.16. 100%[===================>] 979.38K  1.18MB/s    in 0.8s    \n",
            "\n",
            "2022-07-19 01:34:51 (1.18 MB/s) - ‘postgresql-42.2.16.jar’ saved [1002883/1002883]\n",
            "\n"
          ]
        }
      ]
    },
    {
      "cell_type": "code",
      "metadata": {
        "id": "MMqDAjVS0KN9"
      },
      "source": [
        "from pyspark.sql import SparkSession\n",
        "spark = SparkSession.builder.appName(\"M16-Amazon-Challenge\").config(\"spark.driver.extraClassPath\",\"/content/postgresql-42.2.16.jar\").getOrCreate()"
      ],
      "execution_count": 3,
      "outputs": []
    },
    {
      "cell_type": "markdown",
      "metadata": {
        "id": "cyBsySGuY-9V"
      },
      "source": [
        "### Load Amazon Data into Spark DataFrame"
      ]
    },
    {
      "cell_type": "code",
      "metadata": {
        "id": "CtCmBhQJY-9Z",
        "colab": {
          "base_uri": "https://localhost:8080/"
        },
        "outputId": "e750bd31-2a56-4548-bfc9-09eeb471694b"
      },
      "source": [
        "from pyspark import SparkFiles\n",
        "url = \"https://s3.amazonaws.com/amazon-reviews-pds/tsv/amazon_reviews_us_Mobile_Electronics_v1_00.tsv.gz\"\n",
        "spark.sparkContext.addFile(url)\n",
        "df = spark.read.option(\"encoding\", \"UTF-8\").csv(SparkFiles.get(\"amazon_reviews_us_Mobile_Electronics_v1_00.tsv.gz\"), sep=\"\\t\", header=True, inferSchema=True)\n",
        "df.show()"
      ],
      "execution_count": 4,
      "outputs": [
        {
          "output_type": "stream",
          "name": "stdout",
          "text": [
            "+-----------+-----------+--------------+----------+--------------+--------------------+------------------+-----------+-------------+-----------+----+-----------------+--------------------+--------------------+-----------+\n",
            "|marketplace|customer_id|     review_id|product_id|product_parent|       product_title|  product_category|star_rating|helpful_votes|total_votes|vine|verified_purchase|     review_headline|         review_body|review_date|\n",
            "+-----------+-----------+--------------+----------+--------------+--------------------+------------------+-----------+-------------+-----------+----+-----------------+--------------------+--------------------+-----------+\n",
            "|         US|   20422322| R8MEA6IGAHO0B|B00MC4CED8|     217304173|BlackVue DR600GW-PMP|Mobile_Electronics|          5|            0|          0|   N|                Y|         Very Happy!|As advertised. Ev...| 2015-08-31|\n",
            "|         US|   40835037|R31LOQ8JGLPRLK|B00OQMFG1Q|     137313254|GENSSI GSM / GPS ...|Mobile_Electronics|          5|            0|          1|   N|                Y|           five star|          it's great| 2015-08-31|\n",
            "|         US|   51469641|R2Y0MM9YE6OP3P|B00QERR5CY|      82850235|iXCC Multi pack L...|Mobile_Electronics|          5|            0|          0|   N|                Y|        great cables|These work great ...| 2015-08-31|\n",
            "|         US|    4332923| RRB9C05HDOD4O|B00QUFTPV4|     221169481|abcGoodefg® FBI C...|Mobile_Electronics|          4|            0|          0|   N|                Y|Work very well bu...|Work very well bu...| 2015-08-31|\n",
            "|         US|   44855305|R26I2RI1GFV8QG|B0067XVNTG|     563475445|Generic Car Dashb...|Mobile_Electronics|          2|            0|          0|   N|                Y|Cameras has batte...|Be careful with t...| 2015-08-31|\n",
            "|         US|    7846966| RY8DDL22YG4R5|B00KA6CCVY|     713636156|Aweek® Air Acoust...|Mobile_Electronics|          3|            0|          1|   N|                Y|It appears to be ...|It appears to be ...| 2015-08-31|\n",
            "|         US|   21299354|R2AT2426ZHFUHH|B00MJCDPM2|     754171872|Sentey LS-4460 B-...|Mobile_Electronics|          3|            0|          1|   N|                Y|Didn't love the f...|First one arrived...| 2015-08-31|\n",
            "|         US|   28902968|R3RRXU2R23NMQ9|B00ET5AWBY|     508373185|iPad Car Headrest...|Mobile_Electronics|          5|            0|          0|   N|                Y|          Five Stars|Worked great for ...| 2015-08-31|\n",
            "|         US|    2074438|R250PR8VJUZ62F|B00Z9K379C|     759387370|ANWING Waterproof...|Mobile_Electronics|          4|            0|          2|   N|                Y|          Four Stars|this is a very go...| 2015-08-31|\n",
            "|         US|   48701722| RBEMQ29WJBHYG|B00YO3UYXW|     913911909|Jensen MCR-100 Ca...|Mobile_Electronics|          5|          164|        168|   N|                Y|  I LOVE my recorder|I LOVE my recorde...| 2015-08-31|\n",
            "|         US|    2990247|R19VVIUT4BZCMT|B011W26BU2|     938399424|Bluetooth Speaker...|Mobile_Electronics|          5|            2|          2|   N|                Y|          Five Stars|Great sound great...| 2015-08-31|\n",
            "|         US|   52946117|R1DT8JJUQHUKUL|B00H8PI78C|     661515294|15Pcs DC 5V 85dB ...|Mobile_Electronics|          3|            0|          1|   N|                Y|More of a beeper ...|If what you want ...| 2015-08-31|\n",
            "|         US|   49359994| RLIL6S9OGM3YA|B00M49C6MK|      91176851|      Sentey Ls 4162|Mobile_Electronics|          5|            0|          0|   N|                Y|          Five Stars|             Love it| 2015-08-31|\n",
            "|         US|    4158732|R34EZZ68VYPHO0|B011Q291PK|     891142775|IcePACK 8 Can Ins...|Mobile_Electronics|          1|            1|          1|   N|                Y|            One Star|               Sucks| 2015-08-31|\n",
            "|         US|   18944032|R3TZNSOXS13SIG|B00W6OLUGQ|     577462547|DTK® AMI MDI MMI ...|Mobile_Electronics|          2|            1|          3|   N|                Y|           Two Stars|u need to plug in...| 2015-08-31|\n",
            "|         US|     279606|R12UBZT87UX3AP|B008MY1F8W|     680240984|INPA K+CAN K+DCAN...|Mobile_Electronics|          5|            2|          2|   N|                Y|          Five Stars|Worked with MHD F...| 2015-08-31|\n",
            "|         US|   10947966| R5KCRE927NYMU|B00KW3XNUE|     219920841|Magicfly Wireless...|Mobile_Electronics|          2|            0|          0|   N|                N|Battery Cover Poo...|Just arrived,  re...| 2015-08-31|\n",
            "|         US|   18387442| RT12RQFU0V2AX|B009NGR0AK|     254898339|Humminbird XNT 9 ...|Mobile_Electronics|          5|            1|          1|   N|                Y|        Works great.|I bought this uni...| 2015-08-31|\n",
            "|         US|   48950322|R2K0YQPV5W2SJ1|B011W26BU2|     938399424|Bluetooth Speaker...|Mobile_Electronics|          4|            2|          2|   N|                Y|A Lot of Sound In...|I am giving the s...| 2015-08-31|\n",
            "|         US|   48148197|R104MY31OKNGXH|B00PAP68WO|     366592530|Foxnovo 3.7V 380m...|Mobile_Electronics|          5|            0|          0|   N|                Y|          Five Stars|Met my applicatio...| 2015-08-31|\n",
            "+-----------+-----------+--------------+----------+--------------+--------------------+------------------+-----------+-------------+-----------+----+-----------------+--------------------+--------------------+-----------+\n",
            "only showing top 20 rows\n",
            "\n"
          ]
        }
      ]
    },
    {
      "cell_type": "markdown",
      "metadata": {
        "id": "2yUSe55VY-9t"
      },
      "source": [
        "### Create DataFrames to match tables"
      ]
    },
    {
      "cell_type": "code",
      "metadata": {
        "id": "C8REmY1aY-9u",
        "colab": {
          "base_uri": "https://localhost:8080/"
        },
        "outputId": "44cc044c-320c-4772-99d6-fed241235329"
      },
      "source": [
        "from pyspark.sql.functions import to_date\n",
        "# Read in the Review dataset as a DataFrame\n",
        "df.show(5)"
      ],
      "execution_count": 13,
      "outputs": [
        {
          "output_type": "stream",
          "name": "stdout",
          "text": [
            "+-----------+-----------+--------------+----------+--------------+--------------------+------------------+-----------+-------------+-----------+----+-----------------+--------------------+--------------------+-----------+\n",
            "|marketplace|customer_id|     review_id|product_id|product_parent|       product_title|  product_category|star_rating|helpful_votes|total_votes|vine|verified_purchase|     review_headline|         review_body|review_date|\n",
            "+-----------+-----------+--------------+----------+--------------+--------------------+------------------+-----------+-------------+-----------+----+-----------------+--------------------+--------------------+-----------+\n",
            "|         US|   20422322| R8MEA6IGAHO0B|B00MC4CED8|     217304173|BlackVue DR600GW-PMP|Mobile_Electronics|          5|            0|          0|   N|                Y|         Very Happy!|As advertised. Ev...| 2015-08-31|\n",
            "|         US|   40835037|R31LOQ8JGLPRLK|B00OQMFG1Q|     137313254|GENSSI GSM / GPS ...|Mobile_Electronics|          5|            0|          1|   N|                Y|           five star|          it's great| 2015-08-31|\n",
            "|         US|   51469641|R2Y0MM9YE6OP3P|B00QERR5CY|      82850235|iXCC Multi pack L...|Mobile_Electronics|          5|            0|          0|   N|                Y|        great cables|These work great ...| 2015-08-31|\n",
            "|         US|    4332923| RRB9C05HDOD4O|B00QUFTPV4|     221169481|abcGoodefg® FBI C...|Mobile_Electronics|          4|            0|          0|   N|                Y|Work very well bu...|Work very well bu...| 2015-08-31|\n",
            "|         US|   44855305|R26I2RI1GFV8QG|B0067XVNTG|     563475445|Generic Car Dashb...|Mobile_Electronics|          2|            0|          0|   N|                Y|Cameras has batte...|Be careful with t...| 2015-08-31|\n",
            "+-----------+-----------+--------------+----------+--------------+--------------------+------------------+-----------+-------------+-----------+----+-----------------+--------------------+--------------------+-----------+\n",
            "only showing top 5 rows\n",
            "\n"
          ]
        }
      ]
    },
    {
      "cell_type": "code",
      "metadata": {
        "id": "B0TESUDRY-90",
        "colab": {
          "base_uri": "https://localhost:8080/"
        },
        "outputId": "35b576a1-363d-4e7c-99dd-e4ccc403a3f7"
      },
      "source": [
        "# Create the customers_table DataFrame\n",
        "# customers_df = df.groupby(\"\").agg({\"\"}).withColumnRenamed(\"\", \"customer_count\")\n",
        "customers_df = df.groupby(\"customer_id\").agg({\"customer_id\":\"count\"}).withColumnRenamed(\"count(customer_id)\", \"customer_count\")\n",
        "customers_df.show()"
      ],
      "execution_count": 14,
      "outputs": [
        {
          "output_type": "stream",
          "name": "stdout",
          "text": [
            "+-----------+--------------+\n",
            "|customer_id|customer_count|\n",
            "+-----------+--------------+\n",
            "|     176073|             1|\n",
            "|   20992492|             1|\n",
            "|    1397686|             1|\n",
            "|   50371142|             1|\n",
            "|     235096|             1|\n",
            "|   12320806|             1|\n",
            "|   19707203|             1|\n",
            "|   15207172|             1|\n",
            "|     538703|             1|\n",
            "|   11223135|             1|\n",
            "|   31447151|             1|\n",
            "|   35961247|             1|\n",
            "|   17835519|             1|\n",
            "|   15404885|             1|\n",
            "|   10182610|             1|\n",
            "|   52399092|             1|\n",
            "|   17133428|             1|\n",
            "|   27870423|             1|\n",
            "|   11574168|             1|\n",
            "|   30685607|             1|\n",
            "+-----------+--------------+\n",
            "only showing top 20 rows\n",
            "\n"
          ]
        }
      ]
    },
    {
      "cell_type": "code",
      "metadata": {
        "id": "4FwXA6UvY-96",
        "colab": {
          "base_uri": "https://localhost:8080/"
        },
        "outputId": "a0f125d2-a6d5-4f2d-845c-0db3fc6d5b3a"
      },
      "source": [
        "# Create the products_table DataFrame and drop duplicates. \n",
        "# products_df = df.select([]).drop_duplicates()\n",
        "products_df = df.select([\"product_id\", \"product_title\"]).drop_duplicates()\n",
        "products_df.show()"
      ],
      "execution_count": 15,
      "outputs": [
        {
          "output_type": "stream",
          "name": "stdout",
          "text": [
            "+----------+--------------------+\n",
            "|product_id|       product_title|\n",
            "+----------+--------------------+\n",
            "|B01075GRAO|ANYSECU QYT KT890...|\n",
            "|B00QVXNV60|BRG AH2000G-ANR A...|\n",
            "|B004ECO5VA|Holux Mini Smart ...|\n",
            "|B00LGNKLXG|Aweek® Car Antenn...|\n",
            "|B00M1Y87I0|      sentey ls 4063|\n",
            "|B002ABX29I|Micca Slim Portab...|\n",
            "|B00XXA2T2G|Centurion GT1 Car...|\n",
            "|B00Q5A5PD6|HYUNDAI HCR-580 V...|\n",
            "|B00VFEK8IY|Z ZTDM Mini Stere...|\n",
            "|B00L85M8VU|Settonbrothers Ul...|\n",
            "|B00SUXD5GU|[NEW RELEASE] JEB...|\n",
            "|B00KJ7MVYW|Fincibo (TM) Appl...|\n",
            "|B00A6YQQS0|Minisuit Aero Fol...|\n",
            "|B009S99IYI|PIO TSG1644R 6.5 ...|\n",
            "|B006PAZCXY|eForCity® Anti-Gl...|\n",
            "|B00OXD61OE|SHE'O® 2x Cool No...|\n",
            "|B000IBMI1K|RCA 200-Watt Mono...|\n",
            "|B00UN6955M|Aisster(TM) Lot 1...|\n",
            "|B00V684NCQ|LSD 8GB Flash Dri...|\n",
            "|B00A609WOO|eForCity Hybrid S...|\n",
            "+----------+--------------------+\n",
            "only showing top 20 rows\n",
            "\n"
          ]
        }
      ]
    },
    {
      "cell_type": "code",
      "metadata": {
        "id": "MkqyCuNQY-9-",
        "colab": {
          "base_uri": "https://localhost:8080/"
        },
        "outputId": "0a3c350f-3a2d-4cfd-8c90-3f368e3c1acc"
      },
      "source": [
        "# Create the review_id_table DataFrame. \n",
        "# Convert the 'review_date' column to a date datatype with to_date(\"review_date\", 'yyyy-MM-dd').alias(\"review_date\")\n",
        "# review_id_df = df.select([, to_date(\"review_date\", 'yyyy-MM-dd').alias(\"review_date\")])\n",
        "review_id_df = df.select([\"review_id\", \"customer_id\", \"product_id\", \"product_parent\", to_date(\"review_date\", 'yyyy-MM-dd').alias(\"review_date\")])\n",
        "review_id_df.show()"
      ],
      "execution_count": 16,
      "outputs": [
        {
          "output_type": "stream",
          "name": "stdout",
          "text": [
            "+--------------+-----------+----------+--------------+-----------+\n",
            "|     review_id|customer_id|product_id|product_parent|review_date|\n",
            "+--------------+-----------+----------+--------------+-----------+\n",
            "| R8MEA6IGAHO0B|   20422322|B00MC4CED8|     217304173| 2015-08-31|\n",
            "|R31LOQ8JGLPRLK|   40835037|B00OQMFG1Q|     137313254| 2015-08-31|\n",
            "|R2Y0MM9YE6OP3P|   51469641|B00QERR5CY|      82850235| 2015-08-31|\n",
            "| RRB9C05HDOD4O|    4332923|B00QUFTPV4|     221169481| 2015-08-31|\n",
            "|R26I2RI1GFV8QG|   44855305|B0067XVNTG|     563475445| 2015-08-31|\n",
            "| RY8DDL22YG4R5|    7846966|B00KA6CCVY|     713636156| 2015-08-31|\n",
            "|R2AT2426ZHFUHH|   21299354|B00MJCDPM2|     754171872| 2015-08-31|\n",
            "|R3RRXU2R23NMQ9|   28902968|B00ET5AWBY|     508373185| 2015-08-31|\n",
            "|R250PR8VJUZ62F|    2074438|B00Z9K379C|     759387370| 2015-08-31|\n",
            "| RBEMQ29WJBHYG|   48701722|B00YO3UYXW|     913911909| 2015-08-31|\n",
            "|R19VVIUT4BZCMT|    2990247|B011W26BU2|     938399424| 2015-08-31|\n",
            "|R1DT8JJUQHUKUL|   52946117|B00H8PI78C|     661515294| 2015-08-31|\n",
            "| RLIL6S9OGM3YA|   49359994|B00M49C6MK|      91176851| 2015-08-31|\n",
            "|R34EZZ68VYPHO0|    4158732|B011Q291PK|     891142775| 2015-08-31|\n",
            "|R3TZNSOXS13SIG|   18944032|B00W6OLUGQ|     577462547| 2015-08-31|\n",
            "|R12UBZT87UX3AP|     279606|B008MY1F8W|     680240984| 2015-08-31|\n",
            "| R5KCRE927NYMU|   10947966|B00KW3XNUE|     219920841| 2015-08-31|\n",
            "| RT12RQFU0V2AX|   18387442|B009NGR0AK|     254898339| 2015-08-31|\n",
            "|R2K0YQPV5W2SJ1|   48950322|B011W26BU2|     938399424| 2015-08-31|\n",
            "|R104MY31OKNGXH|   48148197|B00PAP68WO|     366592530| 2015-08-31|\n",
            "+--------------+-----------+----------+--------------+-----------+\n",
            "only showing top 20 rows\n",
            "\n"
          ]
        }
      ]
    },
    {
      "cell_type": "code",
      "metadata": {
        "id": "lzMmkdKmY--D",
        "colab": {
          "base_uri": "https://localhost:8080/"
        },
        "outputId": "47a3cfe9-49e1-4fe4-fb75-c1284060df45"
      },
      "source": [
        "# Create the vine_table. DataFrame\n",
        "# vine_df = df.select([])\n",
        "vine_df = df.select([\"review_id\", \"star_rating\", \"helpful_votes\", \"total_votes\", \"vine\", \"verified_purchase\"])\n",
        "vine_df.show()"
      ],
      "execution_count": 17,
      "outputs": [
        {
          "output_type": "stream",
          "name": "stdout",
          "text": [
            "+--------------+-----------+-------------+-----------+----+-----------------+\n",
            "|     review_id|star_rating|helpful_votes|total_votes|vine|verified_purchase|\n",
            "+--------------+-----------+-------------+-----------+----+-----------------+\n",
            "| R8MEA6IGAHO0B|          5|            0|          0|   N|                Y|\n",
            "|R31LOQ8JGLPRLK|          5|            0|          1|   N|                Y|\n",
            "|R2Y0MM9YE6OP3P|          5|            0|          0|   N|                Y|\n",
            "| RRB9C05HDOD4O|          4|            0|          0|   N|                Y|\n",
            "|R26I2RI1GFV8QG|          2|            0|          0|   N|                Y|\n",
            "| RY8DDL22YG4R5|          3|            0|          1|   N|                Y|\n",
            "|R2AT2426ZHFUHH|          3|            0|          1|   N|                Y|\n",
            "|R3RRXU2R23NMQ9|          5|            0|          0|   N|                Y|\n",
            "|R250PR8VJUZ62F|          4|            0|          2|   N|                Y|\n",
            "| RBEMQ29WJBHYG|          5|          164|        168|   N|                Y|\n",
            "|R19VVIUT4BZCMT|          5|            2|          2|   N|                Y|\n",
            "|R1DT8JJUQHUKUL|          3|            0|          1|   N|                Y|\n",
            "| RLIL6S9OGM3YA|          5|            0|          0|   N|                Y|\n",
            "|R34EZZ68VYPHO0|          1|            1|          1|   N|                Y|\n",
            "|R3TZNSOXS13SIG|          2|            1|          3|   N|                Y|\n",
            "|R12UBZT87UX3AP|          5|            2|          2|   N|                Y|\n",
            "| R5KCRE927NYMU|          2|            0|          0|   N|                N|\n",
            "| RT12RQFU0V2AX|          5|            1|          1|   N|                Y|\n",
            "|R2K0YQPV5W2SJ1|          4|            2|          2|   N|                Y|\n",
            "|R104MY31OKNGXH|          5|            0|          0|   N|                Y|\n",
            "+--------------+-----------+-------------+-----------+----+-----------------+\n",
            "only showing top 20 rows\n",
            "\n"
          ]
        }
      ]
    },
    {
      "cell_type": "markdown",
      "metadata": {
        "id": "jITZhLkmY--J"
      },
      "source": [
        "### Connect to the AWS RDS instance and write each DataFrame to its table. "
      ]
    },
    {
      "cell_type": "code",
      "metadata": {
        "id": "7jiUvs1aY--L",
        "colab": {
          "base_uri": "https://localhost:8080/"
        },
        "outputId": "dc72d8b1-58e1-4000-e0db-92945ab18503"
      },
      "source": [
        "# Configure settings for RDS\n",
        "from getpass import getpass\n",
        "password = getpass('Enter database password')\n",
        "mode = \"append\"\n",
        "jdbc_url=\"jdbc:postgresql://dataviz.cqbufemm7lw9.us-east-1.rds.amazonaws.com:5432/challenge_16_db\"\n",
        "config = {\"user\":\"postgres\", \n",
        "          \"password\": password, \n",
        "          \"driver\":\"org.postgresql.Driver\"}"
      ],
      "execution_count": 18,
      "outputs": [
        {
          "name": "stdout",
          "output_type": "stream",
          "text": [
            "Enter database password··········\n"
          ]
        }
      ]
    },
    {
      "cell_type": "code",
      "metadata": {
        "id": "T2zgZ-aKY--Q"
      },
      "source": [
        "# Write review_id_df to table in RDS\n",
        "review_id_df.write.jdbc(url=jdbc_url, table='review_id_table', mode=mode, properties=config)"
      ],
      "execution_count": 19,
      "outputs": []
    },
    {
      "cell_type": "code",
      "metadata": {
        "id": "1m3yzn-LY--U"
      },
      "source": [
        "# Write products_df to table in RDS\n",
        "# about 3 min\n",
        "products_df.write.jdbc(url=jdbc_url, table='products_table', mode=mode, properties=config)"
      ],
      "execution_count": 20,
      "outputs": []
    },
    {
      "cell_type": "code",
      "metadata": {
        "id": "KbXri15fY--Z"
      },
      "source": [
        "# Write customers_df to table in RDS\n",
        "# 5 min 14 s\n",
        "customers_df.write.jdbc(url=jdbc_url, table='customers_table', mode=mode, properties=config)"
      ],
      "execution_count": 21,
      "outputs": []
    },
    {
      "cell_type": "code",
      "metadata": {
        "id": "XdQknSHLY--e"
      },
      "source": [
        "# Write vine_df to table in RDS\n",
        "# 11 minutes\n",
        "vine_df.write.jdbc(url=jdbc_url, table='vine_table', mode=mode, properties=config)"
      ],
      "execution_count": 22,
      "outputs": []
    },
    {
      "cell_type": "code",
      "metadata": {
        "id": "Exuo6ebUsCqW"
      },
      "source": [
        ""
      ],
      "execution_count": null,
      "outputs": []
    }
  ]
}